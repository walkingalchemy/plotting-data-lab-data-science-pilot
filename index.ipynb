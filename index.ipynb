{
 "cells": [
  {
   "cell_type": "markdown",
   "metadata": {},
   "source": [
    "# Plotting Data Lab"
   ]
  },
  {
   "cell_type": "markdown",
   "metadata": {},
   "source": [
    "### Learning Objectives"
   ]
  },
  {
   "cell_type": "markdown",
   "metadata": {},
   "source": [
    "* Understand the components of a point in a graph, an $x$ value, and a $y$ value \n",
    "* Understand how to plot a point on a graph, from a point's $x$ and $y$ value\n",
    "* Get a sense of how to use a graphing library, like Plotly, to answer questions about our data"
   ]
  },
  {
   "cell_type": "markdown",
   "metadata": {},
   "source": [
    "### Working again with our travel data"
   ]
  },
  {
   "cell_type": "markdown",
   "metadata": {},
   "source": [
    "Let's again get our travel data from our excel spreadsheet."
   ]
  },
  {
   "cell_type": "code",
   "execution_count": 3,
   "metadata": {},
   "outputs": [
    {
     "name": "stdout",
     "output_type": "stream",
     "text": [
      "Requirement already satisfied: pandas in /opt/conda/lib/python3.6/site-packages\n",
      "Requirement already satisfied: python-dateutil>=2 in /opt/conda/lib/python3.6/site-packages (from pandas)\n",
      "Requirement already satisfied: numpy>=1.9.0 in /opt/conda/lib/python3.6/site-packages (from pandas)\n",
      "Requirement already satisfied: pytz>=2011k in /opt/conda/lib/python3.6/site-packages (from pandas)\n",
      "Requirement already satisfied: six>=1.5 in /opt/conda/lib/python3.6/site-packages (from python-dateutil>=2->pandas)\n",
      "Requirement already satisfied: xlrd in /opt/conda/lib/python3.6/site-packages\n"
     ]
    }
   ],
   "source": [
    "!pip install pandas\n",
    "!pip install xlrd\n",
    "import pandas\n",
    "file_name = './cities.xlsx'\n",
    "travel_df = pandas.read_excel(file_name)\n",
    "cities = travel_df.to_dict('records')"
   ]
  },
  {
   "cell_type": "code",
   "execution_count": 4,
   "metadata": {},
   "outputs": [
    {
     "data": {
      "text/plain": [
       "[{'Area': 59, 'City': 'Solta', 'Country': 'Croatia', 'Population': 1700},\n",
       " {'Area': 68, 'City': 'Greenville', 'Country': 'USA', 'Population': 84554},\n",
       " {'Area': 4758,\n",
       "  'City': 'Buenos Aires',\n",
       "  'Country': 'Argentina',\n",
       "  'Population': 13591863},\n",
       " {'Area': 3750,\n",
       "  'City': 'Los Cabos',\n",
       "  'Country': 'Mexico',\n",
       "  'Population': 287651},\n",
       " {'Area': 33,\n",
       "  'City': 'Walla Walla Valley',\n",
       "  'Country': 'USA',\n",
       "  'Population': 32237},\n",
       " {'Area': 200, 'City': 'Marakesh', 'Country': 'Morocco', 'Population': 928850},\n",
       " {'Area': 491,\n",
       "  'City': 'Albuquerque',\n",
       "  'Country': 'New Mexico',\n",
       "  'Population': 559277},\n",
       " {'Area': 8300,\n",
       "  'City': 'Archipelago Sea',\n",
       "  'Country': 'Finland',\n",
       "  'Population': 60000},\n",
       " {'Area': 672,\n",
       "  'City': 'Iguazu Falls',\n",
       "  'Country': 'Argentina',\n",
       "  'Population': 0},\n",
       " {'Area': 27, 'City': 'Salina Island', 'Country': 'Italy', 'Population': 4000},\n",
       " {'Area': 2731571, 'City': 'Toronto', 'Country': 'Canada', 'Population': 630},\n",
       " {'Area': 3194,\n",
       "  'City': 'Pyeongchang',\n",
       "  'Country': 'South Korea',\n",
       "  'Population': 2581000}]"
      ]
     },
     "execution_count": 4,
     "metadata": {},
     "output_type": "execute_result"
    }
   ],
   "source": [
    "cities"
   ]
  },
  {
   "cell_type": "markdown",
   "metadata": {},
   "source": [
    "### Visualizing our data with graphs"
   ]
  },
  {
   "cell_type": "markdown",
   "metadata": {},
   "source": [
    "As we can see, in our list of cities, each city has a population number.  Our first task will be to display the populations of our first three cities in a bar chart."
   ]
  },
  {
   "cell_type": "markdown",
   "metadata": {},
   "source": [
    "First we load the plotly library into our notebook, and we initialize this offline mode."
   ]
  },
  {
   "cell_type": "code",
   "execution_count": 5,
   "metadata": {},
   "outputs": [
    {
     "data": {
      "text/html": [
       "<script>requirejs.config({paths: { 'plotly': ['https://cdn.plot.ly/plotly-latest.min']},});if(!window.Plotly) {{require(['plotly'],function(plotly) {window.Plotly=plotly;});}}</script>"
      ],
      "text/vnd.plotly.v1+html": [
       "<script>requirejs.config({paths: { 'plotly': ['https://cdn.plot.ly/plotly-latest.min']},});if(!window.Plotly) {{require(['plotly'],function(plotly) {window.Plotly=plotly;});}}</script>"
      ]
     },
     "metadata": {},
     "output_type": "display_data"
    }
   ],
   "source": [
    "import plotly\n",
    "\n",
    "plotly.offline.init_notebook_mode(connected=True)\n",
    "# use offline mode to avoid initial registration"
   ]
  },
  {
   "cell_type": "markdown",
   "metadata": {},
   "source": [
    "Now the next step is to build a trace.  As we know our trace is a dictionary with a key of `x` and a key of `y`.  We have set up a trace to look like the following: `trace_first_three = {'x': x_values, 'y': y_values}`.  \n",
    "\n",
    "First define `x_values` so that it is a list of the first three cities.  Use what we learned about accessing information from lists and dictionaries to assign `x_values` equal to the first three countries."
   ]
  },
  {
   "cell_type": "code",
   "execution_count": 6,
   "metadata": {},
   "outputs": [],
   "source": [
    "x_values = []"
   ]
  },
  {
   "cell_type": "markdown",
   "metadata": {},
   "source": [
    "Now use list and dictionary accessors to set `y_values` equal to the first three populations."
   ]
  },
  {
   "cell_type": "code",
   "execution_count": 7,
   "metadata": {},
   "outputs": [],
   "source": [
    "y_values = []"
   ]
  },
  {
   "cell_type": "code",
   "execution_count": 8,
   "metadata": {},
   "outputs": [],
   "source": [
    "x_values = [cities[0]['City'], cities[1]['City'], cities[2]['City']]\n",
    "y_values = [cities[0]['Population'], cities[1]['Population'], cities[2]['Population']]"
   ]
  },
  {
   "cell_type": "markdown",
   "metadata": {},
   "source": [
    "Now let's plot our data."
   ]
  },
  {
   "cell_type": "code",
   "execution_count": 9,
   "metadata": {},
   "outputs": [
    {
     "data": {
      "application/vnd.plotly.v1+json": {
       "data": [
        {
         "x": [
          "Solta",
          "Greenville",
          "Buenos Aires"
         ],
         "y": [
          1700,
          84554,
          13591863
         ]
        }
       ],
       "layout": {}
      },
      "text/html": [
       "<div id=\"a15fa91f-3782-40a3-b01b-f1705bce2220\" style=\"height: 525px; width: 100%;\" class=\"plotly-graph-div\"></div><script type=\"text/javascript\">require([\"plotly\"], function(Plotly) { window.PLOTLYENV=window.PLOTLYENV || {};window.PLOTLYENV.BASE_URL=\"https://plot.ly\";Plotly.newPlot(\"a15fa91f-3782-40a3-b01b-f1705bce2220\", [{\"x\": [\"Solta\", \"Greenville\", \"Buenos Aires\"], \"y\": [1700, 84554, 13591863]}], {}, {\"showLink\": true, \"linkText\": \"Export to plot.ly\"})});</script>"
      ],
      "text/vnd.plotly.v1+html": [
       "<div id=\"a15fa91f-3782-40a3-b01b-f1705bce2220\" style=\"height: 525px; width: 100%;\" class=\"plotly-graph-div\"></div><script type=\"text/javascript\">require([\"plotly\"], function(Plotly) { window.PLOTLYENV=window.PLOTLYENV || {};window.PLOTLYENV.BASE_URL=\"https://plot.ly\";Plotly.newPlot(\"a15fa91f-3782-40a3-b01b-f1705bce2220\", [{\"x\": [\"Solta\", \"Greenville\", \"Buenos Aires\"], \"y\": [1700, 84554, 13591863]}], {}, {\"showLink\": true, \"linkText\": \"Export to plot.ly\"})});</script>"
      ]
     },
     "metadata": {},
     "output_type": "display_data"
    }
   ],
   "source": [
    "trace_first_three_pops = {'x': x_values, 'y': y_values}\n",
    "\n",
    "\n",
    "plotly.offline.iplot([trace_first_three_pops])"
   ]
  },
  {
   "cell_type": "markdown",
   "metadata": {},
   "source": [
    "Note that by default, plotly sets the type of trace as a line trace.  Let's make our trace a bar trace by setting the key of `'type'` equal to `'bar'`.  We can continue to use the lists of `x_values` and `y_values` that we defined about in our new trace.  Also, we can have the label match the names of the cities, by setting the key of `text` equal to a list of the names of the cities.  Assign a list of our first three cities to the key of `text`."
   ]
  },
  {
   "cell_type": "code",
   "execution_count": 10,
   "metadata": {},
   "outputs": [],
   "source": [
    "bar_trace_first_three_pops = {'type': 'scatter'}"
   ]
  },
  {
   "cell_type": "code",
   "execution_count": 11,
   "metadata": {},
   "outputs": [
    {
     "data": {
      "text/plain": [
       "'scatter'"
      ]
     },
     "execution_count": 11,
     "metadata": {},
     "output_type": "execute_result"
    }
   ],
   "source": [
    "bar_trace_first_three_pops['type'] # 'bar'"
   ]
  },
  {
   "cell_type": "code",
   "execution_count": 12,
   "metadata": {},
   "outputs": [
    {
     "data": {
      "application/vnd.plotly.v1+json": {
       "data": [
        {
         "type": "scatter"
        }
       ],
       "layout": {}
      },
      "text/html": [
       "<div id=\"dc1554a7-45df-4e7c-a2dc-d9c70d29948f\" style=\"height: 525px; width: 100%;\" class=\"plotly-graph-div\"></div><script type=\"text/javascript\">require([\"plotly\"], function(Plotly) { window.PLOTLYENV=window.PLOTLYENV || {};window.PLOTLYENV.BASE_URL=\"https://plot.ly\";Plotly.newPlot(\"dc1554a7-45df-4e7c-a2dc-d9c70d29948f\", [{\"type\": \"scatter\"}], {}, {\"showLink\": true, \"linkText\": \"Export to plot.ly\"})});</script>"
      ],
      "text/vnd.plotly.v1+html": [
       "<div id=\"dc1554a7-45df-4e7c-a2dc-d9c70d29948f\" style=\"height: 525px; width: 100%;\" class=\"plotly-graph-div\"></div><script type=\"text/javascript\">require([\"plotly\"], function(Plotly) { window.PLOTLYENV=window.PLOTLYENV || {};window.PLOTLYENV.BASE_URL=\"https://plot.ly\";Plotly.newPlot(\"dc1554a7-45df-4e7c-a2dc-d9c70d29948f\", [{\"type\": \"scatter\"}], {}, {\"showLink\": true, \"linkText\": \"Export to plot.ly\"})});</script>"
      ]
     },
     "metadata": {},
     "output_type": "display_data"
    }
   ],
   "source": [
    "plotly.offline.iplot([bar_trace_first_three_pops])"
   ]
  },
  {
   "cell_type": "markdown",
   "metadata": {},
   "source": [
    "Ok, now let's plot two different traces side by side.  Create another trace called `bar_trace_first_three_areas` that has is like our `bar_trace_first_three_pops` except the values are a list of areas.  We will plot this side by side our `bar_trace_first_three_pops` in the plot below."
   ]
  },
  {
   "cell_type": "code",
   "execution_count": 13,
   "metadata": {},
   "outputs": [],
   "source": [
    "trace_first_three_areas = {'type': 'scatter', 'x': [], 'y': [], 'text': []}"
   ]
  },
  {
   "cell_type": "code",
   "execution_count": 14,
   "metadata": {},
   "outputs": [
    {
     "data": {
      "application/vnd.plotly.v1+json": {
       "data": [
        {
         "x": [
          "Solta",
          "Greenville",
          "Buenos Aires"
         ],
         "y": [
          1700,
          84554,
          13591863
         ]
        },
        {
         "text": [],
         "type": "scatter",
         "x": [],
         "y": []
        }
       ],
       "layout": {}
      },
      "text/html": [
       "<div id=\"5e4ff3ca-0aac-4ece-8b63-ab63029514b5\" style=\"height: 525px; width: 100%;\" class=\"plotly-graph-div\"></div><script type=\"text/javascript\">require([\"plotly\"], function(Plotly) { window.PLOTLYENV=window.PLOTLYENV || {};window.PLOTLYENV.BASE_URL=\"https://plot.ly\";Plotly.newPlot(\"5e4ff3ca-0aac-4ece-8b63-ab63029514b5\", [{\"x\": [\"Solta\", \"Greenville\", \"Buenos Aires\"], \"y\": [1700, 84554, 13591863]}, {\"type\": \"scatter\", \"x\": [], \"y\": [], \"text\": []}], {}, {\"showLink\": true, \"linkText\": \"Export to plot.ly\"})});</script>"
      ],
      "text/vnd.plotly.v1+html": [
       "<div id=\"5e4ff3ca-0aac-4ece-8b63-ab63029514b5\" style=\"height: 525px; width: 100%;\" class=\"plotly-graph-div\"></div><script type=\"text/javascript\">require([\"plotly\"], function(Plotly) { window.PLOTLYENV=window.PLOTLYENV || {};window.PLOTLYENV.BASE_URL=\"https://plot.ly\";Plotly.newPlot(\"5e4ff3ca-0aac-4ece-8b63-ab63029514b5\", [{\"x\": [\"Solta\", \"Greenville\", \"Buenos Aires\"], \"y\": [1700, 84554, 13591863]}, {\"type\": \"scatter\", \"x\": [], \"y\": [], \"text\": []}], {}, {\"showLink\": true, \"linkText\": \"Export to plot.ly\"})});</script>"
      ]
     },
     "metadata": {},
     "output_type": "display_data"
    }
   ],
   "source": [
    "plotly.offline.iplot([trace_first_three_pops, trace_first_three_areas])"
   ]
  },
  {
   "cell_type": "markdown",
   "metadata": {},
   "source": [
    "### Summary"
   ]
  },
  {
   "cell_type": "markdown",
   "metadata": {},
   "source": [
    "In this section, we saw how we use data visualisations to better understand the data.  We do the following.  Import plotly:\n",
    "\n",
    "\n",
    "    import plotly\n",
    "\n",
    "    plotly.offline.init_notebook_mode(connected=True)\n",
    "\n",
    "Then we define a trace, which is a Python dictionary.\n",
    "\n",
    "    trace = {'x': [], 'y': [], 'text': [], 'type': 'bar'}\n",
    "    \n",
    "Finally, we display our trace with a call to the following method:\n",
    "\n",
    "    plotly.offline.iplot([trace])\n",
    "    \n",
    "Easy peasy, quick and easy!"
   ]
  }
 ],
 "metadata": {
  "kernelspec": {
   "display_name": "Python 3",
   "language": "python",
   "name": "python3"
  },
  "language_info": {
   "codemirror_mode": {
    "name": "ipython",
    "version": 3
   },
   "file_extension": ".py",
   "mimetype": "text/x-python",
   "name": "python",
   "nbconvert_exporter": "python",
   "pygments_lexer": "ipython3",
   "version": "3.6.4"
  }
 },
 "nbformat": 4,
 "nbformat_minor": 2
}
